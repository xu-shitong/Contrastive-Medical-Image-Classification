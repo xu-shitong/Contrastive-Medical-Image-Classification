{
  "cells": [
    {
      "cell_type": "markdown",
      "metadata": {
        "id": "ytSfqn__OmLc"
      },
      "source": [
        "# Download"
      ]
    },
    {
      "cell_type": "code",
      "execution_count": 1,
      "metadata": {
        "colab": {
          "base_uri": "https://localhost:8080/"
        },
        "id": "2rhGVfICOmLg",
        "outputId": "5b803872-fa34-4e0a-a150-210e5719fb8d"
      },
      "outputs": [
        {
          "name": "stdout",
          "output_type": "stream",
          "text": [
            "Mounted at /content/drive/\n",
            "Looking in indexes: https://pypi.org/simple, https://us-python.pkg.dev/colab-wheels/public/simple/\n",
            "Collecting medmnist\n",
            "  Downloading medmnist-2.1.0-py3-none-any.whl (21 kB)\n",
            "Collecting fire\n",
            "  Downloading fire-0.5.0.tar.gz (88 kB)\n",
            "\u001b[2K     \u001b[90m━━━━━━━━━━━━━━━━━━━━━━━━━━━━━━━━━━━━━━━━\u001b[0m \u001b[32m88.3/88.3 KB\u001b[0m \u001b[31m5.2 MB/s\u001b[0m eta \u001b[36m0:00:00\u001b[0m\n",
            "\u001b[?25h  Preparing metadata (setup.py) ... \u001b[?25l\u001b[?25hdone\n",
            "Requirement already satisfied: Pillow in /usr/local/lib/python3.9/dist-packages (from medmnist) (8.4.0)\n",
            "Requirement already satisfied: torch in /usr/local/lib/python3.9/dist-packages (from medmnist) (1.13.1+cu116)\n",
            "Requirement already satisfied: torchvision in /usr/local/lib/python3.9/dist-packages (from medmnist) (0.14.1+cu116)\n",
            "Requirement already satisfied: tqdm in /usr/local/lib/python3.9/dist-packages (from medmnist) (4.65.0)\n",
            "Requirement already satisfied: pandas in /usr/local/lib/python3.9/dist-packages (from medmnist) (1.4.4)\n",
            "Requirement already satisfied: scikit-learn in /usr/local/lib/python3.9/dist-packages (from medmnist) (1.2.2)\n",
            "Requirement already satisfied: numpy in /usr/local/lib/python3.9/dist-packages (from medmnist) (1.22.4)\n",
            "Requirement already satisfied: scikit-image in /usr/local/lib/python3.9/dist-packages (from medmnist) (0.19.3)\n",
            "Requirement already satisfied: six in /usr/local/lib/python3.9/dist-packages (from fire->medmnist) (1.16.0)\n",
            "Requirement already satisfied: termcolor in /usr/local/lib/python3.9/dist-packages (from fire->medmnist) (2.2.0)\n",
            "Requirement already satisfied: pytz>=2020.1 in /usr/local/lib/python3.9/dist-packages (from pandas->medmnist) (2022.7.1)\n",
            "Requirement already satisfied: python-dateutil>=2.8.1 in /usr/local/lib/python3.9/dist-packages (from pandas->medmnist) (2.8.2)\n",
            "Requirement already satisfied: networkx>=2.2 in /usr/local/lib/python3.9/dist-packages (from scikit-image->medmnist) (3.0)\n",
            "Requirement already satisfied: imageio>=2.4.1 in /usr/local/lib/python3.9/dist-packages (from scikit-image->medmnist) (2.25.1)\n",
            "Requirement already satisfied: scipy>=1.4.1 in /usr/local/lib/python3.9/dist-packages (from scikit-image->medmnist) (1.10.1)\n",
            "Requirement already satisfied: tifffile>=2019.7.26 in /usr/local/lib/python3.9/dist-packages (from scikit-image->medmnist) (2023.3.21)\n",
            "Requirement already satisfied: packaging>=20.0 in /usr/local/lib/python3.9/dist-packages (from scikit-image->medmnist) (23.0)\n",
            "Requirement already satisfied: PyWavelets>=1.1.1 in /usr/local/lib/python3.9/dist-packages (from scikit-image->medmnist) (1.4.1)\n",
            "Requirement already satisfied: joblib>=1.1.1 in /usr/local/lib/python3.9/dist-packages (from scikit-learn->medmnist) (1.1.1)\n",
            "Requirement already satisfied: threadpoolctl>=2.0.0 in /usr/local/lib/python3.9/dist-packages (from scikit-learn->medmnist) (3.1.0)\n",
            "Requirement already satisfied: typing-extensions in /usr/local/lib/python3.9/dist-packages (from torch->medmnist) (4.5.0)\n",
            "Requirement already satisfied: requests in /usr/local/lib/python3.9/dist-packages (from torchvision->medmnist) (2.27.1)\n",
            "Requirement already satisfied: charset-normalizer~=2.0.0 in /usr/local/lib/python3.9/dist-packages (from requests->torchvision->medmnist) (2.0.12)\n",
            "Requirement already satisfied: urllib3<1.27,>=1.21.1 in /usr/local/lib/python3.9/dist-packages (from requests->torchvision->medmnist) (1.26.15)\n",
            "Requirement already satisfied: idna<4,>=2.5 in /usr/local/lib/python3.9/dist-packages (from requests->torchvision->medmnist) (3.4)\n",
            "Requirement already satisfied: certifi>=2017.4.17 in /usr/local/lib/python3.9/dist-packages (from requests->torchvision->medmnist) (2022.12.7)\n",
            "Building wheels for collected packages: fire\n",
            "  Building wheel for fire (setup.py) ... \u001b[?25l\u001b[?25hdone\n",
            "  Created wheel for fire: filename=fire-0.5.0-py2.py3-none-any.whl size=116952 sha256=03243aa2514c609ed320ef68ddf17a2b0306937df017850ac530ec327d45eb4a\n",
            "  Stored in directory: /root/.cache/pip/wheels/f7/f1/89/b9ea2bf8f80ec027a88fef1d354b3816b4d3d29530988972f6\n",
            "Successfully built fire\n",
            "Installing collected packages: fire, medmnist\n",
            "Successfully installed fire-0.5.0 medmnist-2.1.0\n",
            "Looking in indexes: https://pypi.org/simple, https://us-python.pkg.dev/colab-wheels/public/simple/\n",
            "Requirement already satisfied: torch in /usr/local/lib/python3.9/dist-packages (1.13.1+cu116)\n",
            "Requirement already satisfied: typing-extensions in /usr/local/lib/python3.9/dist-packages (from torch) (4.5.0)\n",
            "Looking in indexes: https://pypi.org/simple, https://us-python.pkg.dev/colab-wheels/public/simple/\n",
            "Collecting gputil\n",
            "  Downloading GPUtil-1.4.0.tar.gz (5.5 kB)\n",
            "  Preparing metadata (setup.py) ... \u001b[?25l\u001b[?25hdone\n",
            "Building wheels for collected packages: gputil\n",
            "  Building wheel for gputil (setup.py) ... \u001b[?25l\u001b[?25hdone\n",
            "  Created wheel for gputil: filename=GPUtil-1.4.0-py3-none-any.whl size=7408 sha256=fde8d18d54b2d7935e8785d4fea97347b704f70592b466f1d762addb1f6dacfa\n",
            "  Stored in directory: /root/.cache/pip/wheels/2b/b5/24/fbb56595c286984f7315ee31821d6121e1b9828436021a88b3\n",
            "Successfully built gputil\n",
            "Installing collected packages: gputil\n",
            "Successfully installed gputil-1.4.0\n",
            "Looking in indexes: https://pypi.org/simple, https://us-python.pkg.dev/colab-wheels/public/simple/\n",
            "Requirement already satisfied: psutil in /usr/local/lib/python3.9/dist-packages (5.9.4)\n",
            "Looking in indexes: https://pypi.org/simple, https://us-python.pkg.dev/colab-wheels/public/simple/\n",
            "Requirement already satisfied: humanize in /usr/local/lib/python3.9/dist-packages (4.6.0)\n",
            "Sun Mar 26 14:46:31 2023       \n",
            "+-----------------------------------------------------------------------------+\n",
            "| NVIDIA-SMI 525.85.12    Driver Version: 525.85.12    CUDA Version: 12.0     |\n",
            "|-------------------------------+----------------------+----------------------+\n",
            "| GPU  Name        Persistence-M| Bus-Id        Disp.A | Volatile Uncorr. ECC |\n",
            "| Fan  Temp  Perf  Pwr:Usage/Cap|         Memory-Usage | GPU-Util  Compute M. |\n",
            "|                               |                      |               MIG M. |\n",
            "|===============================+======================+======================|\n",
            "|   0  Tesla T4            Off  | 00000000:00:04.0 Off |                    0 |\n",
            "| N/A   45C    P8    11W /  70W |      0MiB / 15360MiB |      0%      Default |\n",
            "|                               |                      |                  N/A |\n",
            "+-------------------------------+----------------------+----------------------+\n",
            "                                                                               \n",
            "+-----------------------------------------------------------------------------+\n",
            "| Processes:                                                                  |\n",
            "|  GPU   GI   CI        PID   Type   Process name                  GPU Memory |\n",
            "|        ID   ID                                                   Usage      |\n",
            "|=============================================================================|\n",
            "|  No running processes found                                                 |\n",
            "+-----------------------------------------------------------------------------+\n"
          ]
        }
      ],
      "source": [
        "WORKING_ENV = 'COLAB' # Can be LABS, COLAB or PAPERSPACE\n",
        "assert WORKING_ENV in ['LABS', 'COLAB', 'LOCAL']\n",
        "\n",
        "import sys\n",
        "if WORKING_ENV == 'COLAB':\n",
        "  from google.colab import drive\n",
        "  drive.mount('/content/drive/')\n",
        "  !pip install medmnist\n",
        "  !pip install torch\n",
        "  !pip install gputil\n",
        "  !pip install psutil\n",
        "  !pip install humanize\n",
        "  ROOT = \"/content/drive/MyDrive/ColabNotebooks/med-contrastive-project/\"\n",
        "  sys.path.append(ROOT + \"./swav/\")\n",
        "  !nvidia-smi\n",
        "elif WORKING_ENV == 'LABS':\n",
        "  ROOT = \"/vol/bitbucket/sx119/Contrastive-Medical-Image-Classification/\"\n",
        "else:\n",
        "  ROOT = \"/Users/xushitong/Contrastive-Medical-Image-Classification/\""
      ]
    },
    {
      "cell_type": "markdown",
      "metadata": {
        "id": "mK_mMlhOOmLh"
      },
      "source": [
        "# Import"
      ]
    },
    {
      "cell_type": "code",
      "execution_count": 2,
      "metadata": {
        "id": "EjGT6B2HOmLi"
      },
      "outputs": [],
      "source": [
        "import medmnist\n",
        "\n",
        "import argparse\n",
        "import math\n",
        "import os\n",
        "import shutil\n",
        "import time\n",
        "from logging import getLogger\n",
        "\n",
        "import numpy as np\n",
        "import torch\n",
        "import torch.nn as nn\n",
        "import torch.nn.functional as F\n",
        "import torch.nn.parallel\n",
        "import torch.backends.cudnn as cudnn\n",
        "import torch.distributed as dist\n",
        "import torch.optim\n",
        "import torchvision\n",
        "import torchvision.transforms as transforms\n",
        "import tqdm\n",
        "# import loader\n",
        "\n",
        "from utils import (\n",
        "    bool_flag,\n",
        "    initialize_exp,\n",
        "    restart_from_checkpoint,\n",
        "    fix_random_seeds,\n",
        "    AverageMeter,\n",
        "    init_distributed_mode,\n",
        ")\n",
        "from multicropdataset import MultiCropDataset\n",
        "import resnet50 as resnet_models\n",
        "\n"
      ]
    },
    {
      "cell_type": "code",
      "execution_count": 3,
      "metadata": {
        "colab": {
          "base_uri": "https://localhost:8080/"
        },
        "id": "IFrMkUBmae_Q",
        "outputId": "ea3346e0-08ac-42c2-9415-9c16d34558b3"
      },
      "outputs": [
        {
          "name": "stdout",
          "output_type": "stream",
          "text": [
            "CPU RAM Free: 12.4 GB\n",
            "GPU 0 ... Mem Free: 15101MB / 15360MB | Utilization   0%\n"
          ]
        }
      ],
      "source": [
        "# Import packages\n",
        "import os,sys,humanize,psutil,GPUtil\n",
        "\n",
        "# Define function\n",
        "def mem_report():\n",
        "  print(\"CPU RAM Free: \" + humanize.naturalsize( psutil.virtual_memory().available ))\n",
        "  \n",
        "  GPUs = GPUtil.getGPUs()\n",
        "  for i, gpu in enumerate(GPUs):\n",
        "    print('GPU {:d} ... Mem Free: {:.0f}MB / {:.0f}MB | Utilization {:3.0f}%'.format(i, gpu.memoryFree, gpu.memoryTotal, gpu.memoryUtil*100))\n",
        "\n",
        "mem_report()"
      ]
    },
    {
      "cell_type": "markdown",
      "metadata": {
        "id": "D0m-EKEIOmLj"
      },
      "source": [
        "# Hyperparameters"
      ]
    },
    {
      "cell_type": "code",
      "execution_count": 4,
      "metadata": {
        "colab": {
          "base_uri": "https://localhost:8080/"
        },
        "id": "6Kr7c32kOmLj",
        "outputId": "f9ae08c3-230d-4304-9225-8509bf742ccd"
      },
      "outputs": [
        {
          "name": "stdout",
          "output_type": "stream",
          "text": [
            "Running command ['--epochs', '20', '--batch_size', '16', '--base_lr', '4.8', '--nmb_crops', '2', '--size_crops', '224', '--min_scale_crops', '0.14', '--max_scale_crops', '1', '--data_path', '/content/drive/MyDrive/ColabNotebooks/med-contrastive-project/./datasets']\n"
          ]
        }
      ],
      "source": [
        "EPOCH_NUM = 20\n",
        "BATCH_SIZE = 16\n",
        "LEARNING_RATE = 4.8\n",
        "TRAIN_SET_RATIO = 0.9\n",
        "CROP_NUM = [2]\n",
        "CROP_SIZE = [224]\n",
        "MIN_SCALE_CROP = [0.14]\n",
        "MAX_SCALE_CROP = [1]\n",
        "PRINT_FREQ = 100\n",
        "\n",
        "trial_name = f\"epochs{EPOCH_NUM}_batch{BATCH_SIZE}_lr{LEARNING_RATE}_crop-num{CROP_NUM}-size{CROP_SIZE}_scale-crop-min{MIN_SCALE_CROP}-max{MAX_SCALE_CROP}\"\n",
        "arg_command = \\\n",
        "f\"--epochs {EPOCH_NUM} --batch_size {BATCH_SIZE} --base_lr {LEARNING_RATE}\\\n",
        " --nmb_crops {' '.join(map(str, CROP_NUM))} --size_crops {' '.join(map(str, CROP_SIZE))} --min_scale_crops {' '.join(map(str, MIN_SCALE_CROP))} --max_scale_crops {' '.join(map(str, MAX_SCALE_CROP))}\\\n",
        " --data_path {ROOT}./datasets\".split(\" \")\n",
        "\n",
        "print(f\"Running command {arg_command}\")\n"
      ]
    },
    {
      "cell_type": "code",
      "execution_count": 5,
      "metadata": {
        "colab": {
          "base_uri": "https://localhost:8080/"
        },
        "id": "vyn7y9gbOmLl",
        "outputId": "5b41bd22-2fc9-4a33-a4be-35e04ebffb58"
      },
      "outputs": [
        {
          "data": {
            "text/plain": [
              "_StoreAction(option_strings=['--seed'], dest='seed', nargs=None, const=None, default=31, type=<class 'int'>, choices=None, required=False, help='seed', metavar=None)"
            ]
          },
          "execution_count": 5,
          "metadata": {},
          "output_type": "execute_result"
        }
      ],
      "source": [
        "# logger = getLogger()\n",
        "\n",
        "parser = argparse.ArgumentParser(description=\"Implementation of SwAV\")\n",
        "\n",
        "#########################\n",
        "#### data parameters ####\n",
        "#########################\n",
        "parser.add_argument(\"--data_path\", type=str, default=\"/path/to/data\",\n",
        "                    help=\"path to dataset repository\")\n",
        "parser.add_argument(\"--nmb_crops\", type=int, default=[2], nargs=\"+\",\n",
        "                    help=\"list of number of crops (example: [2, 6])\")\n",
        "parser.add_argument(\"--size_crops\", type=int, default=[224], nargs=\"+\",\n",
        "                    help=\"crops resolutions (example: [224, 96])\")\n",
        "parser.add_argument(\"--min_scale_crops\", type=float, default=[0.14], nargs=\"+\",\n",
        "                    help=\"argument in RandomResizedCrop (example: [0.14, 0.05])\")\n",
        "parser.add_argument(\"--max_scale_crops\", type=float, default=[1], nargs=\"+\",\n",
        "                    help=\"argument in RandomResizedCrop (example: [1., 0.14])\")\n",
        "\n",
        "#########################\n",
        "## swav specific params #\n",
        "#########################\n",
        "parser.add_argument(\"--crops_for_assign\", type=int, nargs=\"+\", default=[0, 1],\n",
        "                    help=\"list of crops id used for computing assignments\")\n",
        "parser.add_argument(\"--temperature\", default=0.1, type=float,\n",
        "                    help=\"temperature parameter in training loss\")\n",
        "parser.add_argument(\"--epsilon\", default=0.05, type=float,\n",
        "                    help=\"regularization parameter for Sinkhorn-Knopp algorithm\")\n",
        "parser.add_argument(\"--sinkhorn_iterations\", default=3, type=int,\n",
        "                    help=\"number of iterations in Sinkhorn-Knopp algorithm\")\n",
        "parser.add_argument(\"--feat_dim\", default=128, type=int,\n",
        "                    help=\"feature dimension\")\n",
        "parser.add_argument(\"--nmb_prototypes\", default=3000, type=int,\n",
        "                    help=\"number of prototypes\")\n",
        "parser.add_argument(\"--queue_length\", type=int, default=0,\n",
        "                    help=\"length of the queue (0 for no queue)\")\n",
        "parser.add_argument(\"--epoch_queue_starts\", type=int, default=15,\n",
        "                    help=\"from this epoch, we start using a queue\")\n",
        "\n",
        "#########################\n",
        "#### optim parameters ###\n",
        "#########################\n",
        "parser.add_argument(\"--epochs\", default=100, type=int,\n",
        "                    help=\"number of total epochs to run\")\n",
        "parser.add_argument(\"--batch_size\", default=64, type=int,\n",
        "                    help=\"batch size per gpu, i.e. how many unique instances per gpu\")\n",
        "parser.add_argument(\"--base_lr\", default=4.8, type=float, help=\"base learning rate\")\n",
        "parser.add_argument(\"--final_lr\", type=float, default=0, help=\"final learning rate\")\n",
        "parser.add_argument(\"--freeze_prototypes_niters\", default=313, type=int,\n",
        "                    help=\"freeze the prototypes during this many iterations from the start\")\n",
        "parser.add_argument(\"--wd\", default=1e-6, type=float, help=\"weight decay\")\n",
        "parser.add_argument(\"--warmup_epochs\", default=10, type=int, help=\"number of warmup epochs\")\n",
        "parser.add_argument(\"--start_warmup\", default=0, type=float,\n",
        "                    help=\"initial warmup learning rate\")\n",
        "\n",
        "#########################\n",
        "#### dist parameters ###\n",
        "#########################\n",
        "parser.add_argument(\"--dist_url\", default=\"env://\", type=str, help=\"\"\"url used to set up distributed\n",
        "                    training; see https://pytorch.org/docs/stable/distributed.html\"\"\")\n",
        "parser.add_argument(\"--world_size\", default=-1, type=int, help=\"\"\"\n",
        "                    number of processes: it is set automatically and\n",
        "                    should not be passed as argument\"\"\")\n",
        "parser.add_argument(\"--rank\", default=0, type=int, help=\"\"\"rank of this process:\n",
        "                    it is set automatically and should not be passed as argument\"\"\")\n",
        "parser.add_argument(\"--local_rank\", default=0, type=int,\n",
        "                    help=\"this argument is not used and should be ignored\")\n",
        "\n",
        "#########################\n",
        "#### other parameters ###\n",
        "#########################\n",
        "parser.add_argument(\"--arch\", default=\"resnet50\", type=str, help=\"convnet architecture\")\n",
        "parser.add_argument(\"--hidden_mlp\", default=2048, type=int,\n",
        "                    help=\"hidden layer dimension in projection head\")\n",
        "parser.add_argument(\"--workers\", default=10, type=int,\n",
        "                    help=\"number of data loading workers\")\n",
        "parser.add_argument(\"--checkpoint_freq\", type=int, default=25,\n",
        "                    help=\"Save the model periodically\")\n",
        "parser.add_argument(\"--use_fp16\", type=bool_flag, default=True,\n",
        "                    help=\"whether to train with mixed precision or not\")\n",
        "parser.add_argument(\"--sync_bn\", type=str, default=\"pytorch\", help=\"synchronize bn\")\n",
        "parser.add_argument(\"--syncbn_process_group_size\", type=int, default=8, help=\"\"\" see\n",
        "                    https://github.com/NVIDIA/apex/blob/master/apex/parallel/__init__.py#L58-L67\"\"\")\n",
        "parser.add_argument(\"--dump_path\", type=str, default=\".\",\n",
        "                    help=\"experiment dump path for checkpoints and log\")\n",
        "parser.add_argument(\"--seed\", type=int, default=31, help=\"seed\")\n",
        "\n"
      ]
    },
    {
      "cell_type": "code",
      "execution_count": 6,
      "metadata": {
        "id": "GYGTw1r1OmLn"
      },
      "outputs": [],
      "source": [
        "args = parser.parse_args(arg_command)\n",
        "fix_random_seeds(args.seed)"
      ]
    },
    {
      "cell_type": "markdown",
      "metadata": {
        "id": "uY3bZEPVOmLo"
      },
      "source": [
        "# Dataset"
      ]
    },
    {
      "cell_type": "code",
      "execution_count": 7,
      "metadata": {
        "colab": {
          "base_uri": "https://localhost:8080/"
        },
        "id": "MWrS62HPOmLo",
        "outputId": "bf333dcd-ce8d-4dab-96b3-c820fb36f026"
      },
      "outputs": [
        {
          "name": "stdout",
          "output_type": "stream",
          "text": [
            "pretrain size: 80996\n",
            "pretrain validation size: 9000\n",
            "validation size, 10004\n"
          ]
        }
      ],
      "source": [
        "pretrain_set = MultiCropDataset(\n",
        "        torch.load(args.data_path + \"/pretrain_set.data\"),\n",
        "        args.data_path,\n",
        "        args.size_crops,\n",
        "        args.nmb_crops,\n",
        "        args.min_scale_crops,\n",
        "        args.max_scale_crops,\n",
        "        return_label=True\n",
        "    )\n",
        "pretrain_val_set = MultiCropDataset(\n",
        "        torch.load(args.data_path + \"/pretrain_val_set.data\"),\n",
        "        args.data_path,\n",
        "        args.size_crops,\n",
        "        args.nmb_crops,\n",
        "        args.min_scale_crops,\n",
        "        args.max_scale_crops,\n",
        "        return_label=True\n",
        "    )\n",
        "\n",
        "val_dataset = MultiCropDataset(\n",
        "        medmnist.PathMNIST(\"val\", download=False, root=args.data_path),\n",
        "        args.data_path,\n",
        "        args.size_crops,\n",
        "        args.nmb_crops,\n",
        "        args.min_scale_crops,\n",
        "        args.max_scale_crops,\n",
        "        return_label=True\n",
        "    )\n",
        "\n",
        "pretrain_loader = torch.utils.data.DataLoader(\n",
        "    pretrain_set, batch_size=args.batch_size, shuffle=True, \n",
        "    pin_memory=True, drop_last=True)\n",
        "pretrain_val_loader = torch.utils.data.DataLoader(\n",
        "    pretrain_val_set, batch_size=2 * args.batch_size, shuffle=False, \n",
        "    pin_memory=True, drop_last=True)\n",
        "\n",
        "val_loader = torch.utils.data.DataLoader(\n",
        "    val_dataset, batch_size=2 * args.batch_size, shuffle=False, \n",
        "    pin_memory=True, drop_last=True)\n",
        "\n",
        "print(f\"pretrain size: {len(pretrain_set)}\\npretrain validation size: {len(pretrain_val_set)}\\nvalidation size, {len(val_dataset)}\")\n"
      ]
    },
    {
      "cell_type": "markdown",
      "metadata": {
        "id": "VvgKDG_WOmLp"
      },
      "source": [
        "# Training Helper Functions"
      ]
    },
    {
      "cell_type": "code",
      "execution_count": 13,
      "metadata": {
        "id": "zToe3Q6tOmLq"
      },
      "outputs": [],
      "source": [
        "if WORKING_ENV == 'LABS':\n",
        "  summary = open(trial_name + \".txt\", \"a\")\n",
        "else:\n",
        "  summary = sys.stdout\n",
        "\n",
        "@torch.no_grad()\n",
        "def distributed_sinkhorn(out):\n",
        "    Q = torch.exp(out / args.epsilon).t() # Q is K-by-B for consistency with notations from our paper\n",
        "    B = Q.shape[1] * args.world_size # number of samples to assign\n",
        "    K = Q.shape[0] # how many prototypes\n",
        "\n",
        "    # make the matrix sums to 1\n",
        "    sum_Q = torch.sum(Q)\n",
        "    # dist.all_reduce(sum_Q)\n",
        "    Q /= sum_Q\n",
        "\n",
        "    for it in range(args.sinkhorn_iterations):\n",
        "        # normalize each row: total weight per prototype must be 1/K\n",
        "        sum_of_rows = torch.sum(Q, dim=1, keepdim=True)\n",
        "        # dist.all_reduce(sum_of_rows)\n",
        "        Q /= sum_of_rows\n",
        "        Q /= K\n",
        "\n",
        "        # normalize each column: total weight per sample must be 1/B\n",
        "        Q /= torch.sum(Q, dim=0, keepdim=True)\n",
        "        Q /= B\n",
        "\n",
        "    Q *= B # the colomns must sum to 1 so that Q is an assignment\n",
        "    return Q.t()\n",
        "\n",
        "\n",
        "def train_func(train_loader, model, optimizer, epoch, lr_schedule, queue, train=True):\n",
        "    batch_time = AverageMeter()\n",
        "    data_time = AverageMeter()\n",
        "    losses = AverageMeter()\n",
        "\n",
        "    if train:\n",
        "        model.train()\n",
        "    else:\n",
        "        model.eval()\n",
        "    use_the_queue = False\n",
        "\n",
        "    end = time.time()\n",
        "    with tqdm.tqdm(train_loader, unit=\"batch\") as tepoch: \n",
        "        if WORKING_ENV == \"LABS\":\n",
        "            tepoch = train_loader\n",
        "        for it, (inputs, label) in enumerate(tepoch):\n",
        "            # measure data loading time\n",
        "            data_time.update(time.time() - end)\n",
        "\n",
        "            # update learning rate\n",
        "            iteration = epoch * len(train_loader) + it\n",
        "            for param_group in optimizer.param_groups:\n",
        "                param_group[\"lr\"] = lr_schedule[iteration]\n",
        "\n",
        "            # normalize the prototypes\n",
        "            with torch.no_grad():\n",
        "                w = model.prototypes.weight.data.clone()\n",
        "                w = nn.functional.normalize(w, dim=1, p=2)\n",
        "                model.prototypes.weight.copy_(w)\n",
        "\n",
        "            # ============ multi-res forward passes ... ============\n",
        "            embedding, output = model(inputs)\n",
        "            embedding = embedding.detach()\n",
        "            bs = inputs[0].size(0)\n",
        "\n",
        "            # ============ swav loss ... ============\n",
        "            loss = 0\n",
        "            for i, crop_id in enumerate(args.crops_for_assign):\n",
        "                with torch.no_grad():\n",
        "                    out = output[bs * crop_id: bs * (crop_id + 1)].detach()\n",
        "\n",
        "                    # time to use the queue\n",
        "                    if queue is not None:\n",
        "                        if use_the_queue or not torch.all(queue[i, -1, :] == 0):\n",
        "                            use_the_queue = True\n",
        "                            out = torch.cat((torch.mm(\n",
        "                                queue[i],\n",
        "                                model.module.prototypes.weight.t()\n",
        "                            ), out))\n",
        "                        # fill the queue\n",
        "                        queue[i, bs:] = queue[i, :-bs].clone()\n",
        "                        queue[i, :bs] = embedding[crop_id * bs: (crop_id + 1) * bs]\n",
        "\n",
        "                    # get assignments\n",
        "                    q = distributed_sinkhorn(out)[-bs:]\n",
        "\n",
        "                # cluster assignment prediction\n",
        "                subloss = 0\n",
        "                for v in np.delete(np.arange(np.sum(args.nmb_crops)), crop_id):\n",
        "                    x = output[bs * v: bs * (v + 1)] / args.temperature\n",
        "                    subloss -= torch.mean(torch.sum(q * F.log_softmax(x, dim=1), dim=1))\n",
        "                loss += subloss / (np.sum(args.nmb_crops) - 1)\n",
        "            loss /= len(args.crops_for_assign)\n",
        "\n",
        "            # ============ backward and optim step ... ============\n",
        "            if train:\n",
        "                optimizer.zero_grad()\n",
        "                loss.backward()\n",
        "                # cancel gradients for the prototypes\n",
        "                if iteration < args.freeze_prototypes_niters:\n",
        "                    for name, p in model.named_parameters():\n",
        "                        if \"prototypes\" in name:\n",
        "                            p.grad = None\n",
        "                optimizer.step()\n",
        "\n",
        "            # ============ misc ... ============\n",
        "            losses.update(loss.item(), inputs[0].size(0))\n",
        "            batch_time.update(time.time() - end)\n",
        "            end = time.time()\n",
        "            if args.rank ==0 and it % PRINT_FREQ == 0 and it != 0:\n",
        "                summary.write(\"Epoch: [{0}][{1}]\\t\"\n",
        "                    \"Time {batch_time.val:.3f} ({batch_time.avg:.3f})\\t\"\n",
        "                    \"Data {data_time.val:.3f} ({data_time.avg:.3f})\\t\"\n",
        "                    \"Loss {loss.val:.4f} ({loss.avg:.4f})\\t\"\n",
        "                    \"Lr: {lr:.4f}\\n\".format(\n",
        "                        epoch,\n",
        "                        it,\n",
        "                        batch_time=batch_time,\n",
        "                        data_time=data_time,\n",
        "                        loss=losses,\n",
        "                        lr=optimizer.param_groups[0][\"lr\"],\n",
        "                    )\n",
        "                )\n",
        "                if not WORKING_ENV == 'LABS':\n",
        "                    tepoch.set_description(f\"batch {i}\")\n",
        "                    tepoch.set_postfix(loss=loss.item())\n",
        "    return (epoch, losses.avg), queue\n",
        "\n"
      ]
    },
    {
      "cell_type": "markdown",
      "metadata": {
        "id": "d8pT2SzpOmLr"
      },
      "source": [
        "# Train"
      ]
    },
    {
      "cell_type": "code",
      "execution_count": 14,
      "metadata": {
        "colab": {
          "base_uri": "https://localhost:8080/",
          "height": 559
        },
        "id": "Dg-PMLCcOmLt",
        "outputId": "481b4a45-8e2f-42c9-d296-aedbf6574ab8"
      },
      "outputs": [
        {
          "name": "stderr",
          "output_type": "stream",
          "text": [
            "batch 1:   2%|▏         | 100/5062 [00:54<44:42,  1.85batch/s, loss=8.45]\n"
          ]
        },
        {
          "name": "stdout",
          "output_type": "stream",
          "text": [
            "Epoch: [0][100]\tTime 0.515 (0.535)\tData 0.211 (0.232)\tLoss 8.4519 (8.2763)\tLr: 0.0095\n"
          ]
        },
        {
          "name": "stderr",
          "output_type": "stream",
          "text": [
            "batch 1:  36%|███▌      | 100/281 [01:04<01:57,  1.54batch/s, loss=8.24]\n"
          ]
        },
        {
          "name": "stdout",
          "output_type": "stream",
          "text": [
            "Epoch: [0][100]\tTime 0.622 (0.642)\tData 0.414 (0.439)\tLoss 8.2430 (8.2385)\tLr: 0.0095\n"
          ]
        },
        {
          "name": "stderr",
          "output_type": "stream",
          "text": [
            "batch 1:   2%|▏         | 100/5062 [00:57<47:33,  1.74batch/s, loss=8.01]\n"
          ]
        },
        {
          "name": "stdout",
          "output_type": "stream",
          "text": [
            "Epoch: [1][100]\tTime 0.508 (0.569)\tData 0.199 (0.261)\tLoss 8.0065 (8.0376)\tLr: 0.4895\n"
          ]
        },
        {
          "name": "stderr",
          "output_type": "stream",
          "text": [
            "batch 1:  36%|███▌      | 100/281 [01:04<01:57,  1.54batch/s, loss=8.01]\n"
          ]
        },
        {
          "name": "stdout",
          "output_type": "stream",
          "text": [
            "Epoch: [1][100]\tTime 0.596 (0.641)\tData 0.387 (0.438)\tLoss 8.0065 (8.0065)\tLr: 0.0361\n"
          ]
        },
        {
          "name": "stderr",
          "output_type": "stream",
          "text": [
            "  0%|          | 11/5062 [00:06<48:25,  1.74batch/s]\n"
          ]
        },
        {
          "ename": "KeyboardInterrupt",
          "evalue": "ignored",
          "output_type": "error",
          "traceback": [
            "\u001b[0;31m---------------------------------------------------------------------------\u001b[0m",
            "\u001b[0;31mKeyboardInterrupt\u001b[0m                         Traceback (most recent call last)",
            "\u001b[0;32m<ipython-input-14-a3b7f4e8438f>\u001b[0m in \u001b[0;36m<module>\u001b[0;34m\u001b[0m\n\u001b[1;32m     93\u001b[0m \u001b[0;34m\u001b[0m\u001b[0m\n\u001b[1;32m     94\u001b[0m     \u001b[0;31m# train the network\u001b[0m\u001b[0;34m\u001b[0m\u001b[0;34m\u001b[0m\u001b[0m\n\u001b[0;32m---> 95\u001b[0;31m     \u001b[0mscores\u001b[0m\u001b[0;34m,\u001b[0m \u001b[0mqueue\u001b[0m \u001b[0;34m=\u001b[0m \u001b[0mtrain_func\u001b[0m\u001b[0;34m(\u001b[0m\u001b[0mpretrain_loader\u001b[0m\u001b[0;34m,\u001b[0m \u001b[0mmodel\u001b[0m\u001b[0;34m,\u001b[0m \u001b[0moptimizer\u001b[0m\u001b[0;34m,\u001b[0m \u001b[0mepoch\u001b[0m\u001b[0;34m,\u001b[0m \u001b[0mlr_schedule\u001b[0m\u001b[0;34m,\u001b[0m \u001b[0mqueue\u001b[0m\u001b[0;34m)\u001b[0m\u001b[0;34m\u001b[0m\u001b[0;34m\u001b[0m\u001b[0m\n\u001b[0m\u001b[1;32m     96\u001b[0m     \u001b[0;32mwith\u001b[0m \u001b[0mtorch\u001b[0m\u001b[0;34m.\u001b[0m\u001b[0mno_grad\u001b[0m\u001b[0;34m(\u001b[0m\u001b[0;34m)\u001b[0m\u001b[0;34m:\u001b[0m\u001b[0;34m\u001b[0m\u001b[0;34m\u001b[0m\u001b[0m\n\u001b[1;32m     97\u001b[0m         \u001b[0mtrain_func\u001b[0m\u001b[0;34m(\u001b[0m\u001b[0mpretrain_val_loader\u001b[0m\u001b[0;34m,\u001b[0m \u001b[0mmodel\u001b[0m\u001b[0;34m,\u001b[0m \u001b[0moptimizer\u001b[0m\u001b[0;34m,\u001b[0m \u001b[0mepoch\u001b[0m\u001b[0;34m,\u001b[0m \u001b[0mlr_schedule\u001b[0m\u001b[0;34m,\u001b[0m \u001b[0mqueue\u001b[0m\u001b[0;34m,\u001b[0m \u001b[0mtrain\u001b[0m\u001b[0;34m=\u001b[0m\u001b[0;32mFalse\u001b[0m\u001b[0;34m)\u001b[0m\u001b[0;34m\u001b[0m\u001b[0;34m\u001b[0m\u001b[0m\n",
            "\u001b[0;32m<ipython-input-13-25f96b05f33f>\u001b[0m in \u001b[0;36mtrain_func\u001b[0;34m(train_loader, model, optimizer, epoch, lr_schedule, queue, train)\u001b[0m\n\u001b[1;32m    100\u001b[0m                         \u001b[0;32mif\u001b[0m \u001b[0;34m\"prototypes\"\u001b[0m \u001b[0;32min\u001b[0m \u001b[0mname\u001b[0m\u001b[0;34m:\u001b[0m\u001b[0;34m\u001b[0m\u001b[0;34m\u001b[0m\u001b[0m\n\u001b[1;32m    101\u001b[0m                             \u001b[0mp\u001b[0m\u001b[0;34m.\u001b[0m\u001b[0mgrad\u001b[0m \u001b[0;34m=\u001b[0m \u001b[0;32mNone\u001b[0m\u001b[0;34m\u001b[0m\u001b[0;34m\u001b[0m\u001b[0m\n\u001b[0;32m--> 102\u001b[0;31m                 \u001b[0moptimizer\u001b[0m\u001b[0;34m.\u001b[0m\u001b[0mstep\u001b[0m\u001b[0;34m(\u001b[0m\u001b[0;34m)\u001b[0m\u001b[0;34m\u001b[0m\u001b[0;34m\u001b[0m\u001b[0m\n\u001b[0m\u001b[1;32m    103\u001b[0m \u001b[0;34m\u001b[0m\u001b[0m\n\u001b[1;32m    104\u001b[0m             \u001b[0;31m# ============ misc ... ============\u001b[0m\u001b[0;34m\u001b[0m\u001b[0;34m\u001b[0m\u001b[0m\n",
            "\u001b[0;32m/usr/local/lib/python3.9/dist-packages/torch/optim/optimizer.py\u001b[0m in \u001b[0;36mwrapper\u001b[0;34m(*args, **kwargs)\u001b[0m\n\u001b[1;32m    138\u001b[0m                 \u001b[0mprofile_name\u001b[0m \u001b[0;34m=\u001b[0m \u001b[0;34m\"Optimizer.step#{}.step\"\u001b[0m\u001b[0;34m.\u001b[0m\u001b[0mformat\u001b[0m\u001b[0;34m(\u001b[0m\u001b[0mobj\u001b[0m\u001b[0;34m.\u001b[0m\u001b[0m__class__\u001b[0m\u001b[0;34m.\u001b[0m\u001b[0m__name__\u001b[0m\u001b[0;34m)\u001b[0m\u001b[0;34m\u001b[0m\u001b[0;34m\u001b[0m\u001b[0m\n\u001b[1;32m    139\u001b[0m                 \u001b[0;32mwith\u001b[0m \u001b[0mtorch\u001b[0m\u001b[0;34m.\u001b[0m\u001b[0mautograd\u001b[0m\u001b[0;34m.\u001b[0m\u001b[0mprofiler\u001b[0m\u001b[0;34m.\u001b[0m\u001b[0mrecord_function\u001b[0m\u001b[0;34m(\u001b[0m\u001b[0mprofile_name\u001b[0m\u001b[0;34m)\u001b[0m\u001b[0;34m:\u001b[0m\u001b[0;34m\u001b[0m\u001b[0;34m\u001b[0m\u001b[0m\n\u001b[0;32m--> 140\u001b[0;31m                     \u001b[0mout\u001b[0m \u001b[0;34m=\u001b[0m \u001b[0mfunc\u001b[0m\u001b[0;34m(\u001b[0m\u001b[0;34m*\u001b[0m\u001b[0margs\u001b[0m\u001b[0;34m,\u001b[0m \u001b[0;34m**\u001b[0m\u001b[0mkwargs\u001b[0m\u001b[0;34m)\u001b[0m\u001b[0;34m\u001b[0m\u001b[0;34m\u001b[0m\u001b[0m\n\u001b[0m\u001b[1;32m    141\u001b[0m                     \u001b[0mobj\u001b[0m\u001b[0;34m.\u001b[0m\u001b[0m_optimizer_step_code\u001b[0m\u001b[0;34m(\u001b[0m\u001b[0;34m)\u001b[0m\u001b[0;34m\u001b[0m\u001b[0;34m\u001b[0m\u001b[0m\n\u001b[1;32m    142\u001b[0m                     \u001b[0;32mreturn\u001b[0m \u001b[0mout\u001b[0m\u001b[0;34m\u001b[0m\u001b[0;34m\u001b[0m\u001b[0m\n",
            "\u001b[0;32m/usr/local/lib/python3.9/dist-packages/torch/optim/optimizer.py\u001b[0m in \u001b[0;36m_use_grad\u001b[0;34m(self, *args, **kwargs)\u001b[0m\n\u001b[1;32m     21\u001b[0m         \u001b[0;32mtry\u001b[0m\u001b[0;34m:\u001b[0m\u001b[0;34m\u001b[0m\u001b[0;34m\u001b[0m\u001b[0m\n\u001b[1;32m     22\u001b[0m             \u001b[0mtorch\u001b[0m\u001b[0;34m.\u001b[0m\u001b[0mset_grad_enabled\u001b[0m\u001b[0;34m(\u001b[0m\u001b[0mself\u001b[0m\u001b[0;34m.\u001b[0m\u001b[0mdefaults\u001b[0m\u001b[0;34m[\u001b[0m\u001b[0;34m'differentiable'\u001b[0m\u001b[0;34m]\u001b[0m\u001b[0;34m)\u001b[0m\u001b[0;34m\u001b[0m\u001b[0;34m\u001b[0m\u001b[0m\n\u001b[0;32m---> 23\u001b[0;31m             \u001b[0mret\u001b[0m \u001b[0;34m=\u001b[0m \u001b[0mfunc\u001b[0m\u001b[0;34m(\u001b[0m\u001b[0mself\u001b[0m\u001b[0;34m,\u001b[0m \u001b[0;34m*\u001b[0m\u001b[0margs\u001b[0m\u001b[0;34m,\u001b[0m \u001b[0;34m**\u001b[0m\u001b[0mkwargs\u001b[0m\u001b[0;34m)\u001b[0m\u001b[0;34m\u001b[0m\u001b[0;34m\u001b[0m\u001b[0m\n\u001b[0m\u001b[1;32m     24\u001b[0m         \u001b[0;32mfinally\u001b[0m\u001b[0;34m:\u001b[0m\u001b[0;34m\u001b[0m\u001b[0;34m\u001b[0m\u001b[0m\n\u001b[1;32m     25\u001b[0m             \u001b[0mtorch\u001b[0m\u001b[0;34m.\u001b[0m\u001b[0mset_grad_enabled\u001b[0m\u001b[0;34m(\u001b[0m\u001b[0mprev_grad\u001b[0m\u001b[0;34m)\u001b[0m\u001b[0;34m\u001b[0m\u001b[0;34m\u001b[0m\u001b[0m\n",
            "\u001b[0;32m/usr/local/lib/python3.9/dist-packages/torch/optim/sgd.py\u001b[0m in \u001b[0;36mstep\u001b[0;34m(self, closure)\u001b[0m\n\u001b[1;32m    149\u001b[0m                         \u001b[0mmomentum_buffer_list\u001b[0m\u001b[0;34m.\u001b[0m\u001b[0mappend\u001b[0m\u001b[0;34m(\u001b[0m\u001b[0mstate\u001b[0m\u001b[0;34m[\u001b[0m\u001b[0;34m'momentum_buffer'\u001b[0m\u001b[0;34m]\u001b[0m\u001b[0;34m)\u001b[0m\u001b[0;34m\u001b[0m\u001b[0;34m\u001b[0m\u001b[0m\n\u001b[1;32m    150\u001b[0m \u001b[0;34m\u001b[0m\u001b[0m\n\u001b[0;32m--> 151\u001b[0;31m             sgd(params_with_grad,\n\u001b[0m\u001b[1;32m    152\u001b[0m                 \u001b[0md_p_list\u001b[0m\u001b[0;34m,\u001b[0m\u001b[0;34m\u001b[0m\u001b[0;34m\u001b[0m\u001b[0m\n\u001b[1;32m    153\u001b[0m                 \u001b[0mmomentum_buffer_list\u001b[0m\u001b[0;34m,\u001b[0m\u001b[0;34m\u001b[0m\u001b[0;34m\u001b[0m\u001b[0m\n",
            "\u001b[0;32m/usr/local/lib/python3.9/dist-packages/torch/optim/sgd.py\u001b[0m in \u001b[0;36msgd\u001b[0;34m(params, d_p_list, momentum_buffer_list, has_sparse_grad, foreach, weight_decay, momentum, lr, dampening, nesterov, maximize)\u001b[0m\n\u001b[1;32m    200\u001b[0m         \u001b[0mfunc\u001b[0m \u001b[0;34m=\u001b[0m \u001b[0m_single_tensor_sgd\u001b[0m\u001b[0;34m\u001b[0m\u001b[0;34m\u001b[0m\u001b[0m\n\u001b[1;32m    201\u001b[0m \u001b[0;34m\u001b[0m\u001b[0m\n\u001b[0;32m--> 202\u001b[0;31m     func(params,\n\u001b[0m\u001b[1;32m    203\u001b[0m          \u001b[0md_p_list\u001b[0m\u001b[0;34m,\u001b[0m\u001b[0;34m\u001b[0m\u001b[0;34m\u001b[0m\u001b[0m\n\u001b[1;32m    204\u001b[0m          \u001b[0mmomentum_buffer_list\u001b[0m\u001b[0;34m,\u001b[0m\u001b[0;34m\u001b[0m\u001b[0;34m\u001b[0m\u001b[0m\n",
            "\u001b[0;32m/usr/local/lib/python3.9/dist-packages/torch/optim/sgd.py\u001b[0m in \u001b[0;36m_single_tensor_sgd\u001b[0;34m(params, d_p_list, momentum_buffer_list, weight_decay, momentum, lr, dampening, nesterov, maximize, has_sparse_grad)\u001b[0m\n\u001b[1;32m    243\u001b[0m                 \u001b[0md_p\u001b[0m \u001b[0;34m=\u001b[0m \u001b[0mbuf\u001b[0m\u001b[0;34m\u001b[0m\u001b[0;34m\u001b[0m\u001b[0m\n\u001b[1;32m    244\u001b[0m \u001b[0;34m\u001b[0m\u001b[0m\n\u001b[0;32m--> 245\u001b[0;31m         \u001b[0mparam\u001b[0m\u001b[0;34m.\u001b[0m\u001b[0madd_\u001b[0m\u001b[0;34m(\u001b[0m\u001b[0md_p\u001b[0m\u001b[0;34m,\u001b[0m \u001b[0malpha\u001b[0m\u001b[0;34m=\u001b[0m\u001b[0;34m-\u001b[0m\u001b[0mlr\u001b[0m\u001b[0;34m)\u001b[0m\u001b[0;34m\u001b[0m\u001b[0;34m\u001b[0m\u001b[0m\n\u001b[0m\u001b[1;32m    246\u001b[0m \u001b[0;34m\u001b[0m\u001b[0m\n\u001b[1;32m    247\u001b[0m \u001b[0;34m\u001b[0m\u001b[0m\n",
            "\u001b[0;31mKeyboardInterrupt\u001b[0m: "
          ]
        }
      ],
      "source": [
        "# logger, training_stats = initialize_exp(args, \"epoch\", \"loss\")\n",
        "\n",
        "# build data\n",
        "# train_dataset = MultiCropDataset(\n",
        "#     args.data_path,\n",
        "#     args.size_crops,\n",
        "#     args.nmb_crops,\n",
        "#     args.min_scale_crops,\n",
        "#     args.max_scale_crops,\n",
        "# )\n",
        "# train_loader = torch.utils.data.DataLoader(\n",
        "#     train_dataset,\n",
        "#     batch_size=args.batch_size,\n",
        "#     num_workers=args.workers,\n",
        "#     pin_memory=True,\n",
        "#     drop_last=True\n",
        "# )\n",
        "# logger.info(\"Building data done with {} images loaded.\".format(len(train_dataset)))\n",
        "\n",
        "# build model\n",
        "# model = torchvision.models.resnet50()\n",
        "model = resnet_models.__dict__[args.arch](\n",
        "        normalize=True,\n",
        "        hidden_mlp=args.hidden_mlp,\n",
        "        output_dim=args.feat_dim,\n",
        "        nmb_prototypes=args.nmb_prototypes,\n",
        "    )\n",
        "# # synchronize batch norm layers\n",
        "# model = nn.SyncBatchNorm.convert_sync_batchnorm(model)\n",
        "# copy model to GPU\n",
        "model = model.cuda()\n",
        "# if args.rank == 0:\n",
        "#     logger.info(model)\n",
        "# logger.info(\"Building model done.\")\n",
        "\n",
        "# build optimizer\n",
        "optimizer = torch.optim.SGD(\n",
        "    model.parameters(),\n",
        "    lr=args.base_lr,\n",
        "    momentum=0.9,\n",
        "    weight_decay=args.wd,\n",
        ")\n",
        "# optimizer = LARC(optimizer=optimizer, trust_coefficient=0.001, clip=False)\n",
        "warmup_lr_schedule = np.linspace(args.start_warmup, args.base_lr, len(pretrain_loader) * args.warmup_epochs)\n",
        "iters = np.arange(len(pretrain_loader) * (args.epochs - args.warmup_epochs))\n",
        "cosine_lr_schedule = np.array([args.final_lr + 0.5 * (args.base_lr - args.final_lr) * (1 + \\\n",
        "                      math.cos(math.pi * t / (len(pretrain_loader) * (args.epochs - args.warmup_epochs)))) for t in iters])\n",
        "lr_schedule = np.concatenate((warmup_lr_schedule, cosine_lr_schedule))\n",
        "# logger.info(\"Building optimizer done.\")\n",
        "\n",
        "# # wrap model\n",
        "# model = nn.parallel.DistributedDataParallel(\n",
        "#     model,\n",
        "#     device_ids=[args.gpu_to_work_on]\n",
        "# )\n",
        "\n",
        "# optionally resume from a checkpoint\n",
        "to_restore = {\"epoch\": 0}\n",
        "# restart_from_checkpoint(\n",
        "#     os.path.join(args.dump_path, \"checkpoint.pth.tar\"),\n",
        "#     run_variables=to_restore,\n",
        "#     state_dict=model,\n",
        "#     optimizer=optimizer,\n",
        "#     amp=apex.amp,\n",
        "# )\n",
        "start_epoch = to_restore[\"epoch\"]\n",
        "\n",
        "# build the queue\n",
        "queue = None\n",
        "queue_path = os.path.join(args.dump_path, \"queue\" + str(args.rank) + \".pth\")\n",
        "if os.path.isfile(queue_path):\n",
        "    queue = torch.load(queue_path)[\"queue\"]\n",
        "# the queue needs to be divisible by the batch size\n",
        "args.queue_length -= args.queue_length % (args.batch_size * args.world_size)\n",
        "\n",
        "cudnn.benchmark = True\n",
        "\n",
        "for epoch in range(start_epoch, args.epochs):\n",
        "\n",
        "    # train the network for one epoch\n",
        "    # logger.info(\"============ Starting epoch %i ... ============\" % epoch)\n",
        "\n",
        "    # # set sampler\n",
        "    # train_loader.sampler.set_epoch(epoch)\n",
        "\n",
        "    # optionally starts a queue\n",
        "    if args.queue_length > 0 and epoch >= args.epoch_queue_starts and queue is None:\n",
        "        queue = torch.zeros(\n",
        "            len(args.crops_for_assign),\n",
        "            args.queue_length // args.world_size,\n",
        "            args.feat_dim,\n",
        "        ).cuda()\n",
        "\n",
        "    # train the network\n",
        "    scores, queue = train_func(pretrain_loader, model, optimizer, epoch, lr_schedule, queue)\n",
        "    with torch.no_grad():\n",
        "        train_func(pretrain_val_loader, model, optimizer, epoch, lr_schedule, queue, train=False)\n",
        "    # training_stats.update(scores)\n",
        "\n",
        "    # # save checkpoints\n",
        "    # if args.rank == 0:\n",
        "    #     save_dict = {\n",
        "    #         \"epoch\": epoch + 1,\n",
        "    #         \"state_dict\": model.state_dict(),\n",
        "    #         \"optimizer\": optimizer.state_dict(),\n",
        "    #     }\n",
        "    #     torch.save(\n",
        "    #         save_dict,\n",
        "    #         os.path.join(args.dump_path, \"checkpoint.pth.tar\"),\n",
        "    #     )\n",
        "    #     if epoch % args.checkpoint_freq == 0 or epoch == args.epochs - 1:\n",
        "    #         shutil.copyfile(\n",
        "    #             os.path.join(args.dump_path, \"checkpoint.pth.tar\"),\n",
        "    #             os.path.join(args.dump_checkpoints, \"ckp-\" + str(epoch) + \".pth\"),\n",
        "    #         )\n",
        "    # if queue is not None:\n",
        "    #     torch.save({\"queue\": queue}, queue_path)\n",
        "\n",
        "\n",
        "\n"
      ]
    },
    {
      "cell_type": "code",
      "execution_count": null,
      "metadata": {
        "id": "PSzm5lRHOmLu"
      },
      "outputs": [],
      "source": [
        "torch.save(model, f\"{trial_name}.pickle\")\n",
        "mem_report()"
      ]
    },
    {
      "cell_type": "markdown",
      "metadata": {
        "id": "yJp5PTuFYbvX"
      },
      "source": [
        "# Quantitative Evaluation"
      ]
    },
    {
      "cell_type": "code",
      "execution_count": null,
      "metadata": {
        "id": "z1UfGYGdYbvY"
      },
      "outputs": [],
      "source": [
        "model.eval()\n",
        "classification_head = nn.Linear(128, 9).cuda(args.gpu)\n",
        "head_optimizer = torch.optim.SGD(classification_head.parameters(), 0.05)\n",
        "\n",
        "for _ in range(30):\n",
        "  with tqdm.tqdm(val_loader, unit=\"batch\") as tepoch: \n",
        "    for i, (images, labels) in enumerate(tepoch):\n",
        "      images[0] = images[0].cuda(args.gpu, non_blocking=True)\n",
        "      labels = labels.cuda(args.gpu, non_blocking=True)\n",
        "      \n",
        "      with torch.no_grad():\n",
        "        q = model.encoder_q(images[0])  # queries: NxC\n",
        "        q = nn.functional.normalize(q, dim=1)\n",
        "      y_hat = classification_head(q)\n",
        "\n",
        "      l = ce_loss_(y_hat, labels.squeeze())\n",
        "\n",
        "      head_optimizer.zero_grad()\n",
        "      l.backward()\n",
        "      head_optimizer.step()\n",
        "\n",
        "  summary.write(f\"classification loss: {l.item()}\\n\")\n",
        "\n",
        "torch.save(classification_head, f\"{trial_name}_head.pickle\")\n",
        "  "
      ]
    },
    {
      "cell_type": "markdown",
      "metadata": {
        "id": "LuA_C4lqYbvY"
      },
      "source": [
        "# Metric Evaluation"
      ]
    },
    {
      "cell_type": "code",
      "execution_count": null,
      "metadata": {
        "id": "un_H67eIYbvY"
      },
      "outputs": [],
      "source": [
        "import re\n",
        "import matplotlib.pyplot as plt\n",
        "import torch\n",
        "from sklearn.manifold import TSNE\n"
      ]
    },
    {
      "cell_type": "code",
      "execution_count": null,
      "metadata": {
        "id": "BbuM5ytCYbvY",
        "outputId": "82282cb9-6352-4ef3-cf25-8c9dee7e0256"
      },
      "outputs": [
        {
          "data": {
            "image/png": "[encoded data removed]",
            "text/plain": [
              "<Figure size 1500x1000 with 4 Axes>"
            ]
          },
          "metadata": {},
          "output_type": "display_data"
        }
      ],
      "source": [
        "def extract_float(file_name, start=\"Epoch\"):\n",
        "  def isfloat(word):\n",
        "    try:\n",
        "      float(word)\n",
        "      return True\n",
        "    except ValueError:\n",
        "      return False\n",
        "  file = open(file_name)\n",
        "  l = [[float(word) for word in re.split(\"\\n|,| |\\t|\\(|\\)\", line) if isfloat(word)] for line in file if line.startswith(start)]\n",
        "  return torch.tensor(l)\n",
        "\n",
        "# general propose plot\n",
        "file_names = [\n",
        "  \"./epochs20_batch64_lr4.8_crop-num[2]-size[32]_scale-crop-min[0.14]-max[1].txt\",\n",
        "  \"./epochs20_batch64_lr4.8_crop-num[2]-size[32]_scale-crop-min[0.14]-max[1] copy.txt\",   \n",
        "]\n",
        "fig, axarr = plt.subplots(len(file_names), 2, figsize=(15, 10))\n",
        "names = [\"default swav\", \"default swav\"] # titles for each row of image, substitute of file name \n",
        "for i, file_name in enumerate(file_names):\n",
        "  losses = extract_float(file_name) # shape [iteration_number * print num per iteration, 8], only loss at index [5, 7] are useful for plot\n",
        "  train_index = {} # additional plot other than losses\n",
        "  val_index = {}\n",
        "  mean_loss_index = [i * 7 + 6 for i in range(losses.shape[0] // 7)]\n",
        "\n",
        "  for j, idx in enumerate(train_index):\n",
        "    axarr[i, j+1].plot(losses[:, idx])\n",
        "  \n",
        "  for j, idx in enumerate(val_index):\n",
        "    axarr[i, j+1].plot(losses[:, idx])\n",
        "    axarr[i, j+1].set_title(train_index[idx])\n",
        "\n",
        "  axarr[i, 0].plot(losses[:, 5], label=\"train loss\")\n",
        "  # axarr[i, 0].plot(losses[:, 7], label=\"val loss\")\n",
        "  axarr[i, 0].set_title(names[i])\n",
        "  axarr[i, 0].legend(loc=\"upper right\")\n",
        "\n",
        "\n",
        "  axarr[i, -1].plot(losses[mean_loss_index, 5], label=\"train loss\")\n",
        "  # axarr[i, -1].plot(losses[mean_loss_index, 7], label=\"val loss\")\n",
        "  axarr[i, -1].set_title(names[i] + \" mean cross entropy\")\n",
        "  axarr[i, -1].legend(loc=\"upper right\")\n"
      ]
    },
    {
      "cell_type": "code",
      "execution_count": null,
      "metadata": {
        "id": "Gm5HRfRjYbvZ"
      },
      "outputs": [],
      "source": [
        "test_data = medmnist.PathMNIST(\"test\", download=False, root=args.data_path, \n",
        "                                  #  transform=loader.TwoCropsTransform(transforms.Compose(augmentation)))\n",
        "                                 transform=transforms.Compose([\n",
        "                                  transforms.RandomResizedCrop(224, scale=(0.2, 1.)),\n",
        "                                  transforms.ToTensor(),\n",
        "                                  transforms.Normalize(mean=[0.485, 0.456, 0.406], std=[0.229, 0.224, 0.225])\n",
        "                                ]))\n",
        "\n",
        "test_loader = torch.utils.data.DataLoader(\n",
        "    test_data, batch_size=512, shuffle=True, drop_last=True)\n",
        "for x, y in test_loader:\n",
        "  break\n",
        "\n",
        "plot_test_loader = torch.utils.data.DataLoader(torch.utils.data.TensorDataset(x, y), batch_size=512)\n"
      ]
    },
    {
      "cell_type": "code",
      "execution_count": null,
      "metadata": {
        "id": "gMwv6VwPYbvZ",
        "outputId": "3c911a37-3fc0-49e5-9e52-cc754026f2cd"
      },
      "outputs": [
        {
          "name": "stdout",
          "output_type": "stream",
          "text": [
            "torch.Size([512, 128]) torch.Size([512, 3000])\n",
            "evaluating fepochs20_batch64_lr4.8_crop-num[2]-size[32]_scale-crop-min[0.14]-max[1]\n"
          ]
        },
        {
          "data": {
            "image/png": "[encoded data removed]",
            "text/plain": [
              "<Figure size 640x480 with 1 Axes>"
            ]
          },
          "metadata": {},
          "output_type": "display_data"
        }
      ],
      "source": [
        "eval_name = \"epochs20_batch64_lr4.8_crop-num[2]-size[32]_scale-crop-min[0.14]-max[1]\"\n",
        "model = resnet_models.__dict__[args.arch](\n",
        "        normalize=True,\n",
        "        hidden_mlp=args.hidden_mlp,\n",
        "        output_dim=args.feat_dim,\n",
        "        nmb_prototypes=args.nmb_prototypes,\n",
        "    )\n",
        "model = torch.load(ROOT + f\"/swav/{eval_name}.pickle\", map_location=torch.device('cpu') )\n",
        "model.eval()\n",
        "with torch.no_grad():\n",
        "  embedding, output = model.forward(x, gpu=False)\n",
        "  print(embedding.shape, output.shape)\n",
        "z_embedded = TSNE(n_components=2, learning_rate='auto', init='random', perplexity=30).fit_transform(embedding)\n",
        "\n",
        "cs = ['#1f77b4', '#ff7f0e', '#2ca02c', '#d62728', '#9467bd', '#8c564b', '#e377c2', '#7f7f7f', '#bcbd22', '#17becf']\n",
        "print(f\"evaluating f{eval_name}\")\n",
        "for i in range(0, y.max()+1):\n",
        "  plt.scatter(z_embedded[(y == i).squeeze(), 0], z_embedded[(y == i).squeeze(), 1], c=cs[i])\n"
      ]
    },
    {
      "cell_type": "code",
      "execution_count": null,
      "metadata": {
        "id": "hy3GZauuYbvZ"
      },
      "outputs": [],
      "source": []
    }
  ],
  "metadata": {
    "accelerator": "GPU",
    "colab": {
      "provenance": []
    },
    "gpuClass": "standard",
    "kernelspec": {
      "display_name": "med-contrast-env",
      "language": "python",
      "name": "python3"
    },
    "language_info": {
      "codemirror_mode": {
        "name": "ipython",
        "version": 3
      },
      "file_extension": ".py",
      "mimetype": "text/x-python",
      "name": "python",
      "nbconvert_exporter": "python",
      "pygments_lexer": "ipython3",
      "version": "3.9.15"
    },
    "orig_nbformat": 4,
    "vscode": {
      "interpreter": {
        "hash": "89c22432502bdc03679fbb2d05029bfff3d90287672507a41449dbd4432b55dc"
      }
    }
  },
  "nbformat": 4,
  "nbformat_minor": 0
}
