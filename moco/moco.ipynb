{
  "cells": [
    {
      "cell_type": "markdown",
      "metadata": {
        "id": "JR0Flq1UxNNA"
      },
      "source": [
        "# Download"
      ]
    },
    {
      "cell_type": "code",
      "execution_count": 63,
      "metadata": {
        "colab": {
          "base_uri": "https://localhost:8080/"
        },
        "id": "6rfzXouQxNNE",
        "outputId": "f0d3fc9b-f5a0-46c2-801d-d1e81e8c314e"
      },
      "outputs": [],
      "source": [
        "WORKING_ENV = 'LOCAL' # Can be LABS, COLAB or PAPERSPACE\n",
        "assert WORKING_ENV in ['LABS', 'COLAB', 'LOCAL']\n",
        "\n",
        "import sys\n",
        "if WORKING_ENV == 'COLAB':\n",
        "  from google.colab import drive\n",
        "  drive.mount('/content/drive/')\n",
        "  !pip install medmnist\n",
        "  !pip install torch\n",
        "  !pip install gputil\n",
        "  !pip install psutil\n",
        "  !pip install humanize\n",
        "  ROOT = \"/content/drive/MyDrive/ColabNotebooks/med-contrastive-project/\"\n",
        "  sys.path.append(ROOT + \"./moco/\")\n",
        "  !nvidia-smi\n",
        "elif WORKING_ENV == 'LABS':\n",
        "  ROOT = \"/vol/bitbucket/sx119/Contrastive-Medical-Image-Classification/\"\n",
        "else:\n",
        "  ROOT = \"/Users/xushitong/Contrastive-Medical-Image-Classification/\""
      ]
    },
    {
      "cell_type": "markdown",
      "metadata": {
        "id": "hR8ZgATBxNNG"
      },
      "source": [
        "# Import"
      ]
    },
    {
      "cell_type": "code",
      "execution_count": 64,
      "metadata": {
        "id": "ygRaiz3zxNNG"
      },
      "outputs": [],
      "source": [
        "import medmnist\n",
        "\n",
        "import argparse\n",
        "import builtins\n",
        "import math\n",
        "import os\n",
        "import random\n",
        "import shutil\n",
        "import time\n",
        "import tqdm\n",
        "import warnings\n",
        "\n",
        "import torch\n",
        "import torch.nn as nn\n",
        "import torch.nn.parallel\n",
        "import torch.backends.cudnn as cudnn\n",
        "# import torch.distributed as dist\n",
        "import torch.optim\n",
        "import torch.multiprocessing as mp\n",
        "import torch.utils.data\n",
        "# import torch.utils.data.distributed\n",
        "import torchvision.transforms as transforms\n",
        "import torchvision.datasets as datasets\n",
        "import torchvision.models as models\n",
        "\n",
        "import loader\n",
        "import builder"
      ]
    },
    {
      "cell_type": "code",
      "execution_count": null,
      "metadata": {
        "colab": {
          "base_uri": "https://localhost:8080/"
        },
        "id": "EwggMf_Yw-i7",
        "outputId": "48d6a964-d0ed-4343-a932-1112daea788c"
      },
      "outputs": [],
      "source": [
        "# Import packages\n",
        "import os,sys,humanize,psutil,GPUtil\n",
        "\n",
        "# Define function\n",
        "def mem_report():\n",
        "  print(\"CPU RAM Free: \" + humanize.naturalsize( psutil.virtual_memory().available ))\n",
        "  \n",
        "  GPUs = GPUtil.getGPUs()\n",
        "  for i, gpu in enumerate(GPUs):\n",
        "    print('GPU {:d} ... Mem Free: {:.0f}MB / {:.0f}MB | Utilization {:3.0f}%'.format(i, gpu.memoryFree, gpu.memoryTotal, gpu.memoryUtil*100))\n",
        "\n",
        "mem_report()"
      ]
    },
    {
      "cell_type": "markdown",
      "metadata": {
        "id": "x0-zL3BAxNNI"
      },
      "source": [
        "# Hyperparameters"
      ]
    },
    {
      "cell_type": "code",
      "execution_count": 65,
      "metadata": {
        "colab": {
          "base_uri": "https://localhost:8080/"
        },
        "id": "NSLD_2PmxNNI",
        "outputId": "d3bcc5fc-cb95-48cc-e8a0-7591ee610b85"
      },
      "outputs": [
        {
          "name": "stdout",
          "output_type": "stream",
          "text": [
            "Running command ['--epochs', '200', '-b', '128', '--lr', '0.03', '--momentum', '0.9', '--print-freq', '100', '--loss-type', 'cate-ce', '/Users/xushitong/Contrastive-Medical-Image-Classification/./datasets']\n"
          ]
        }
      ],
      "source": [
        "EPOCH_NUM = 200\n",
        "BATCH_SIZE = 128\n",
        "LEARNING_RATE = 0.03\n",
        "MOMENTUM = 0.9\n",
        "# LOSS_TYPE = \"self\"\n",
        "LOSS_TYPE = \"cate-ce\"\n",
        "# LOSS_TYPE = \"binary-ce\"\n",
        "\n",
        "trial_name = f\"epochs{EPOCH_NUM}_batch{BATCH_SIZE}_lr{LEARNING_RATE}_momentum{MOMENTUM}_loss-type{LOSS_TYPE}\"\n",
        "arg_command = \\\n",
        "f\"--epochs_{EPOCH_NUM}_-b_{BATCH_SIZE}_--lr_{LEARNING_RATE}_--momentum_{MOMENTUM}_--print-freq_100\\\n",
        "_--loss-type_{LOSS_TYPE}_{'' if WORKING_ENV == 'LOCAL' else '--gpu_0_'}{ROOT}./datasets\".split(\"_\")\n",
        "\n",
        "print(f\"Running command {arg_command}\")"
      ]
    },
    {
      "cell_type": "code",
      "execution_count": 66,
      "metadata": {
        "colab": {
          "base_uri": "https://localhost:8080/"
        },
        "id": "ct1yDbRsxNNJ",
        "outputId": "6fad635c-9ef3-4afb-9a7c-ca1f9fbe6a00"
      },
      "outputs": [
        {
          "data": {
            "text/plain": [
              "_StoreTrueAction(option_strings=['--cos'], dest='cos', nargs=0, const=True, default=False, type=None, choices=None, required=False, help='use cosine lr schedule', metavar=None)"
            ]
          },
          "execution_count": 66,
          "metadata": {},
          "output_type": "execute_result"
        }
      ],
      "source": [
        "#!/usr/bin/env python\n",
        "# Copyright (c) Facebook, Inc. and its affiliates. All Rights Reserved\n",
        "\n",
        "model_names = sorted(name for name in models.__dict__\n",
        "    if name.islower() and not name.startswith(\"__\")\n",
        "    and callable(models.__dict__[name]))\n",
        "\n",
        "parser = argparse.ArgumentParser(description='PyTorch ImageNet Training')\n",
        "parser.add_argument('data', metavar='DIR',\n",
        "                    help='path to dataset')\n",
        "parser.add_argument('-a', '--arch', metavar='ARCH', default='resnet50',\n",
        "                    choices=model_names,\n",
        "                    help='model architecture: ' +\n",
        "                        ' | '.join(model_names) +\n",
        "                        ' (default: resnet50)')\n",
        "# parser.add_argument('-j', '--workers', default=32, type=int, metavar='N',\n",
        "#                     help='number of data loading workers (default: 32)')\n",
        "parser.add_argument('--epochs', default=200, type=int, metavar='N',\n",
        "                    help='number of total epochs to run')\n",
        "parser.add_argument('--start-epoch', default=0, type=int, metavar='N',\n",
        "                    help='manual epoch number (useful on restarts)')\n",
        "parser.add_argument('-b', '--batch-size', default=256, type=int,\n",
        "                    metavar='N',\n",
        "                    help='mini-batch size (default: 256), this is the total '\n",
        "                         'batch size of all GPUs on the current node when '\n",
        "                         'using Data Parallel or Distributed Data Parallel')\n",
        "parser.add_argument('--lr', '--learning-rate', default=0.03, type=float,\n",
        "                    metavar='LR', help='initial learning rate', dest='lr')\n",
        "parser.add_argument('--schedule', default=[120, 160], nargs='*', type=int,\n",
        "                    help='learning rate schedule (when to drop lr by 10x)')\n",
        "parser.add_argument('--momentum', default=0.9, type=float, metavar='M',\n",
        "                    help='momentum of SGD solver')\n",
        "parser.add_argument('--wd', '--weight-decay', default=1e-4, type=float,\n",
        "                    metavar='W', help='weight decay (default: 1e-4)',\n",
        "                    dest='weight_decay')\n",
        "parser.add_argument('-p', '--print-freq', default=10, type=int,\n",
        "                    metavar='N', help='print frequency (default: 10)')\n",
        "parser.add_argument('--resume', default='', type=str, metavar='PATH',\n",
        "                    help='path to latest checkpoint (default: none)')\n",
        "# parser.add_argument('--world-size', default=-1, type=int,\n",
        "#                     help='number of nodes for distributed training')\n",
        "# parser.add_argument('--rank', default=-1, type=int,\n",
        "#                     help='node rank for distributed training')\n",
        "# parser.add_argument('--dist-url', default='tcp://224.66.41.62:23456', type=str,\n",
        "#                     help='url used to set up distributed training')\n",
        "# parser.add_argument('--dist-backend', default='nccl', type=str,\n",
        "#                     help='distributed backend')\n",
        "parser.add_argument('--seed', default=None, type=int,\n",
        "                    help='seed for initializing training. ')\n",
        "parser.add_argument('--gpu', default=None, type=int,\n",
        "                    help='GPU id to use.')\n",
        "# parser.add_argument('--multiprocessing-distributed', action='store_true',\n",
        "#                     help='Use multi-processing distributed training to launch '\n",
        "#                          'N processes per node, which has N GPUs. This is the '\n",
        "#                          'fastest way to use PyTorch for either single node or '\n",
        "#                          'multi node data parallel training')\n",
        "# new argument proposed for medical image classification\n",
        "parser.add_argument('-lt', '--loss-type', default=\"binary-ce\", type=str,\n",
        "                    help='self if positive pairs are from the same image'\n",
        "                    'cate-ce if categorical cross entropy loss is used for positive pairs from the same category'\n",
        "                    'binary-ce if binary cross entropy loss is used for positive pairs from the same category')\n",
        "\n",
        "# moco specific configs:\n",
        "parser.add_argument('--moco-dim', default=128, type=int,\n",
        "                    help='feature dimension (default: 128)')\n",
        "parser.add_argument('--moco-k', default=65536, type=int,\n",
        "                    help='queue size; number of negative keys (default: 65536)')\n",
        "parser.add_argument('--moco-m', default=0.999, type=float,\n",
        "                    help='moco momentum of updating key encoder (default: 0.999)')\n",
        "parser.add_argument('--moco-t', default=0.07, type=float,\n",
        "                    help='softmax temperature (default: 0.07)')\n",
        "\n",
        "# options for moco v2\n",
        "parser.add_argument('--mlp', action='store_true',\n",
        "                    help='use mlp head')\n",
        "parser.add_argument('--aug-plus', action='store_true',\n",
        "                    help='use moco v2 data augmentation')\n",
        "parser.add_argument('--cos', action='store_true',\n",
        "                    help='use cosine lr schedule')"
      ]
    },
    {
      "cell_type": "code",
      "execution_count": 67,
      "metadata": {
        "id": "FvLjiq92mAw1"
      },
      "outputs": [],
      "source": [
        "args = parser.parse_args(arg_command)\n",
        "\n",
        "if args.seed is not None:\n",
        "    random.seed(args.seed)\n",
        "    torch.manual_seed(args.seed)\n",
        "    cudnn.deterministic = True\n",
        "    warnings.warn('You have chosen to seed training. '\n",
        "                  'This will turn on the CUDNN deterministic setting, '\n",
        "                  'which can slow down your training considerably! '\n",
        "                  'You may see unexpected behavior when restarting '\n",
        "                  'from checkpoints.')"
      ]
    },
    {
      "cell_type": "markdown",
      "metadata": {
        "id": "FuYf0uhUmAw2"
      },
      "source": [
        "# Training helper functions"
      ]
    },
    {
      "cell_type": "code",
      "execution_count": 6,
      "metadata": {
        "id": "a1wqf6--mAw3"
      },
      "outputs": [],
      "source": [
        "def save_checkpoint(state, is_best, filename='checkpoint.pth.tar'):\n",
        "    torch.save(state, filename)\n",
        "    if is_best:\n",
        "        shutil.copyfile(filename, 'model_best.pth.tar')\n",
        "\n",
        "\n",
        "class AverageMeter(object):\n",
        "    \"\"\"Computes and stores the average and current value\"\"\"\n",
        "    def __init__(self, name, fmt=':f'):\n",
        "        self.name = name\n",
        "        self.fmt = fmt\n",
        "        self.reset()\n",
        "\n",
        "    def reset(self):\n",
        "        self.val = 0\n",
        "        self.avg = 0\n",
        "        self.sum = 0\n",
        "        self.count = 0\n",
        "\n",
        "    def update(self, val, n=1):\n",
        "        self.val = val\n",
        "        self.sum += val * n\n",
        "        self.count += n\n",
        "        self.avg = self.sum / self.count\n",
        "\n",
        "    def __str__(self):\n",
        "        fmtstr = '{name} {val' + self.fmt + '} ({avg' + self.fmt + '})'\n",
        "        return fmtstr.format(**self.__dict__)\n",
        "\n",
        "\n",
        "class ProgressMeter(object):\n",
        "    def __init__(self, file, num_batches, meters, prefix=\"\"):\n",
        "        self.file = file\n",
        "        self.batch_fmtstr = self._get_batch_fmtstr(num_batches)\n",
        "        self.meters = meters\n",
        "        self.prefix = prefix\n",
        "\n",
        "    def display(self, batch):\n",
        "        entries = [self.prefix + self.batch_fmtstr.format(batch)]\n",
        "        entries += [str(meter) for meter in self.meters]\n",
        "        self.file.write('\\t'.join(entries) + \"\\n\")\n",
        "\n",
        "    def _get_batch_fmtstr(self, num_batches):\n",
        "        num_digits = len(str(num_batches // 1))\n",
        "        fmt = '{:' + str(num_digits) + 'd}'\n",
        "        return '[' + fmt + '/' + fmt.format(num_batches) + ']'\n",
        "\n",
        "\n",
        "def adjust_learning_rate(optimizer, epoch, args):\n",
        "    \"\"\"Decay the learning rate based on schedule\"\"\"\n",
        "    lr = args.lr\n",
        "    if args.cos:  # cosine lr schedule\n",
        "        lr *= 0.5 * (1. + math.cos(math.pi * epoch / args.epochs))\n",
        "    else:  # stepwise lr schedule\n",
        "        for milestone in args.schedule:\n",
        "            lr *= 0.1 if epoch >= milestone else 1.\n",
        "    for param_group in optimizer.param_groups:\n",
        "        param_group['lr'] = lr\n",
        "\n",
        "\n",
        "def accuracy(output, target, topk=(1,)):\n",
        "    \"\"\"\n",
        "    NOT IN USE\n",
        "    Computes the accuracy over the k top predictions for the specified values of k\n",
        "    \"\"\"\n",
        "    with torch.no_grad():\n",
        "        maxk = max(topk)\n",
        "        batch_size = target.size(0)\n",
        "\n",
        "        _, pred = output.topk(maxk, 1, True, True)\n",
        "        pred = pred.t()\n",
        "        correct = pred.eq(target.view(1, -1).expand_as(pred))\n",
        "\n",
        "        res = []\n",
        "        for k in topk:\n",
        "            correct_k = correct[:k].reshape(-1).float().sum(0, keepdim=True)\n",
        "            res.append(correct_k.mul_(100.0 / batch_size))\n",
        "        return res\n",
        "\n",
        "\n",
        "def update_accuracy_meters(losses, top1, top5, output, target, loss, step_size):\n",
        "    \"\"\"\n",
        "    NOT IN USE\n",
        "    Update loss, top1, top5 metrics for either train or validation\n",
        "\n",
        "    Inputs:\n",
        "      - step_size: parameter n for loss/top1/top5 meters\n",
        "    \"\"\"\n",
        "    # acc1/acc5 are (K+1)-way contrast classifier accuracy\n",
        "    # measure accuracy and record loss\n",
        "    acc1, acc5 = accuracy(output, target, topk=(1, 5))\n",
        "    losses.update(loss.item(), step_size)\n",
        "    top1.update(acc1[0], step_size)\n",
        "    top5.update(acc5[0], step_size)\n",
        "\n",
        "\n",
        "ce_loss_ = nn.CrossEntropyLoss(reduction=\"mean\") # take softmax, sum CrossEntropy per sample, take mean\n",
        "binary_loss_ = nn.BCEWithLogitsLoss(reduction=\"mean\") # take mean of per sample per pair binary Cross Entropy\n",
        "if args.gpu is not None:\n",
        "  ce_loss_ = ce_loss_.cuda(args.gpu)\n",
        "  binary_loss_ = binary_loss_.cuda(args.gpu)\n",
        "def multi_label_loss(prediction, target):\n",
        "    \"\"\"\n",
        "    NOT IN USE\n",
        "    Loss to handle multi-label classification when multiple positive image pairs exist.\n",
        "    loss function used defined in args.loss_type\n",
        "    \n",
        "    Inputs: \n",
        "      - pretiction: shape: [bathc_size, 1 + k]\n",
        "      - target: [batch_size] if self, otherwise [batch_size, 1 + K]\n",
        "      \n",
        "    Outputs:\n",
        "      - scalar loss value for back propagate\n",
        "    \"\"\"\n",
        "    \n",
        "    if args.loss_type == \"binary-ce\":\n",
        "      loss = binary_loss_(prediction, target).sum(dim=-1)\n",
        "    elif args.loss_type in [\"cate-ce\", \"self\"]:\n",
        "      loss = ce_loss_(prediction, target)\n",
        "    \n",
        "    return loss.mean()"
      ]
    },
    {
      "cell_type": "markdown",
      "metadata": {
        "id": "3jKX_SGOmAw4"
      },
      "source": [
        "# Dataset"
      ]
    },
    {
      "cell_type": "code",
      "execution_count": 7,
      "metadata": {
        "id": "kVr5uUDQmAw4"
      },
      "outputs": [],
      "source": [
        "# Data loading code\n",
        "# traindir = os.path.join(args.data, 'train')\n",
        "normalize = transforms.Normalize(mean=[0.485, 0.456, 0.406],\n",
        "                                  std=[0.229, 0.224, 0.225])\n",
        "if args.aug_plus:\n",
        "    # MoCo v2's aug: similar to SimCLR https://arxiv.org/abs/2002.05709\n",
        "    augmentation = [\n",
        "        # transforms.RandomResizedCrop(224, scale=(0.2, 1.)),\n",
        "        # transforms.RandomApply([\n",
        "        #     transforms.ColorJitter(0.4, 0.4, 0.4, 0.1)  # not strengthened\n",
        "        # ], p=0.8),\n",
        "        # transforms.RandomGrayscale(p=0.2),\n",
        "        transforms.RandomApply([loader.GaussianBlur([.1, 2.])], p=0.5),\n",
        "        transforms.RandomHorizontalFlip(),\n",
        "        transforms.ToTensor(),\n",
        "        normalize\n",
        "    ]\n",
        "else:\n",
        "    # MoCo v1's aug: the same as InstDisc https://arxiv.org/abs/1805.01978\n",
        "    augmentation = [\n",
        "        # transforms.RandomResizedCrop(224, scale=(0.2, 1.)),\n",
        "        # transforms.RandomGrayscale(p=0.2),\n",
        "        # transforms.ColorJitter(0.4, 0.4, 0.4, 0.4),\n",
        "        transforms.RandomHorizontalFlip(),\n",
        "        transforms.ToTensor(),\n",
        "        normalize\n",
        "    ]\n",
        "\n",
        "train_dataset = medmnist.PathMNIST(\"train\", download=False, root=args.data, \n",
        "                                  #  transform=loader.TwoCropsTransform(transforms.Compose(augmentation)))\n",
        "                                   transform=transforms.Compose(augmentation))\n",
        "val_dataset = medmnist.PathMNIST(\"val\", download=False, root=args.data, \n",
        "                                  #  transform=loader.TwoCropsTransform(transforms.Compose(augmentation)))\n",
        "                                 transform=transforms.Compose(augmentation))\n",
        "\n",
        "train_loader = torch.utils.data.DataLoader(\n",
        "    train_dataset, batch_size=args.batch_size, shuffle=True, \n",
        "    pin_memory=True, drop_last=True)\n",
        "val_loader = torch.utils.data.DataLoader(\n",
        "    val_dataset, batch_size=2 * args.batch_size, shuffle=False, \n",
        "    pin_memory=True, drop_last=True)\n"
      ]
    },
    {
      "cell_type": "markdown",
      "metadata": {
        "id": "AnG87FNTxNNL"
      },
      "source": [
        "# Train"
      ]
    },
    {
      "cell_type": "code",
      "execution_count": 8,
      "metadata": {
        "colab": {
          "base_uri": "https://localhost:8080/"
        },
        "id": "eKBaxhUMmAw8",
        "outputId": "f70129ff-daae-43bc-81e0-880637513bdb"
      },
      "outputs": [
        {
          "name": "stdout",
          "output_type": "stream",
          "text": [
            "=> creating model 'resnet50'\n"
          ]
        }
      ],
      "source": [
        "if WORKING_ENV == 'LABS':\n",
        "  summary = open(trial_name + \".txt\", \"a\")\n",
        "else:\n",
        "  summary = sys.stdout\n",
        "\n",
        "print(\"=> creating model '{}'\".format(args.arch))\n",
        "model = builder.MoCo(\n",
        "    models.__dict__[args.arch],\n",
        "    args.moco_dim, args.moco_k, args.moco_m, args.moco_t, args.mlp)\n",
        "# print(model)\n",
        "\n",
        "if args.gpu is not None:\n",
        "  torch.cuda.set_device(args.gpu)\n",
        "  model = model.cuda(args.gpu)\n",
        "\n",
        "criterion = multi_label_loss\n",
        "\n",
        "optimizer = torch.optim.SGD(model.parameters(), args.lr,\n",
        "                            momentum=args.momentum,\n",
        "                            weight_decay=args.weight_decay)"
      ]
    },
    {
      "cell_type": "code",
      "execution_count": null,
      "metadata": {
        "colab": {
          "base_uri": "https://localhost:8080/",
          "height": 440
        },
        "id": "bxWMJP9cmAxA",
        "outputId": "24e2c1d2-d625-4414-d55f-188315e48e4d"
      },
      "outputs": [],
      "source": [
        "if args.gpu is not None:\n",
        "  cudnn.benchmark = True\n",
        "\n",
        "for epoch in range(args.start_epoch, args.epochs):\n",
        "    adjust_learning_rate(optimizer, epoch, args)\n",
        "\n",
        "    # train for one epoch\n",
        "    batch_time = AverageMeter('Time', ':6.3f')\n",
        "    data_time = AverageMeter('Data', ':6.3f')\n",
        "    losses = AverageMeter('TrainLoss', ':.4e')\n",
        "    # top1 = AverageMeter('Acc@1', ':6.2f')\n",
        "    # top5 = AverageMeter('Acc@5', ':6.2f')\n",
        "    val_losses = AverageMeter('ValLoss', ':.4e')\n",
        "    # val_top1 = AverageMeter('ValAcc@1', ':6.2f')\n",
        "    # val_top5 = AverageMeter('ValAcc@5', ':6.2f')\n",
        "    progress = ProgressMeter(\n",
        "        summary,\n",
        "        len(train_loader),\n",
        "        # [batch_time, data_time, losses, top1, top5, val_losses, val_top1, val_top5],\n",
        "        [batch_time, data_time, losses, val_losses],\n",
        "        prefix=\"Epoch: [{}]\".format(epoch))\n",
        "\n",
        "    # switch to train mode\n",
        "    model.train()\n",
        "\n",
        "    end = time.time()\n",
        "    with tqdm.tqdm(train_loader, unit=\"batch\") as tepoch: \n",
        "      if WORKING_ENV == \"LABS\":\n",
        "        tepoch = train_loader\n",
        "      for i, (images, labels) in enumerate(tepoch):\n",
        "        # set label, if no label given, positive pair is image itself\n",
        "        if args.loss_type == 'self':\n",
        "          labels = None\n",
        "\n",
        "        # measure data loading time\n",
        "        data_time.update(time.time() - end)\n",
        "\n",
        "        if args.gpu is not None:\n",
        "            images = images.cuda(args.gpu, non_blocking=True)\n",
        "\n",
        "        # compute output\n",
        "        output, target = model(img=images, labels=labels)\n",
        "        loss = criterion(output, target)\n",
        "\n",
        "        # compute gradient and do SGD step\n",
        "        optimizer.zero_grad()\n",
        "        loss.backward()\n",
        "        optimizer.step()\n",
        "\n",
        "        # update_accuracy_meters(losses, top1, top5, output, target, loss, images[0].size(0))\n",
        "        losses.update(loss.item(), images.size(0))\n",
        "\n",
        "        # measure elapsed time\n",
        "        batch_time.update(time.time() - end)\n",
        "        end = time.time()\n",
        "\n",
        "        if not WORKING_ENV == 'LABS':\n",
        "          tepoch.set_description(f\"batch {i}\")\n",
        "          tepoch.set_postfix(loss=loss.item())\n",
        "\n",
        "        # log performance\n",
        "        if i % args.print_freq == 0 and not i == 0:\n",
        "          with torch.no_grad():\n",
        "            model.eval()\n",
        "            # evaluate on validation set\n",
        "            for (images, labels) in val_loader:\n",
        "              if args.loss_type == 'self':\n",
        "                labels = None\n",
        "              if args.gpu is not None:\n",
        "                images = images.cuda(args.gpu, non_blocking=True)\n",
        "              output, target = model(img=images, labels=labels, train=False)\n",
        "              loss = criterion(output, target)\n",
        "              # update_accuracy_meters(val_losses, val_top1, val_top5, output, target, loss, images[0].size(0))\n",
        "              val_losses.update(loss.item(), images.size(0))\n",
        "            \n",
        "            model.train()\n",
        "          \n",
        "          progress.display(i)\n",
        "\n",
        "\n",
        "    # if not args.multiprocessing_distributed or (args.multiprocessing_distributed\n",
        "    #         and args.rank % ngpus_per_node == 0):\n",
        "    #     save_checkpoint({\n",
        "    #         'epoch': epoch + 1,\n",
        "    #         'arch': args.arch,\n",
        "    #         'state_dict': model.state_dict(),\n",
        "    #         'optimizer' : optimizer.state_dict(),\n",
        "    #     }, is_best=False, filename='checkpoint_{:04d}.pth.tar'.format(epoch))\n",
        "\n"
      ]
    },
    {
      "cell_type": "code",
      "execution_count": null,
      "metadata": {
        "id": "yV8e6GjDH7SY"
      },
      "outputs": [],
      "source": [
        "if WORKING_ENV == 'LABS':\n",
        "  summary.close()\n",
        "\n",
        "torch.save(model, f\"{trial_name}.pickle\")\n"
      ]
    },
    {
      "cell_type": "code",
      "execution_count": null,
      "metadata": {
        "colab": {
          "base_uri": "https://localhost:8080/"
        },
        "id": "ejL5KMHcvoIG",
        "outputId": "45b4188d-b166-4f7b-c120-1677c3f47146"
      },
      "outputs": [
        {
          "name": "stdout",
          "output_type": "stream",
          "text": [
            "CPU RAM Free: 10.4 GB\n",
            "GPU 0 ... Mem Free: 10315MB / 15109MB | Utilization  32%\n"
          ]
        }
      ],
      "source": [
        "mem_report()"
      ]
    },
    {
      "attachments": {},
      "cell_type": "markdown",
      "metadata": {},
      "source": [
        "# Metric Evaluation"
      ]
    },
    {
      "cell_type": "code",
      "execution_count": 12,
      "metadata": {},
      "outputs": [],
      "source": [
        "import re\n",
        "import matplotlib.pyplot as plt"
      ]
    },
    {
      "cell_type": "code",
      "execution_count": 15,
      "metadata": {},
      "outputs": [
        {
          "data": {
            "image/png": "[encoded data removed]",
            "text/plain": [
              "<Figure size 1500x1000 with 4 Axes>"
            ]
          },
          "metadata": {},
          "output_type": "display_data"
        }
      ],
      "source": [
        "def extract_float(file_name, start=\"\"):\n",
        "  def isfloat(word):\n",
        "    try:\n",
        "      float(word)\n",
        "      return True\n",
        "    except ValueError:\n",
        "      return False\n",
        "  file = open(file_name)\n",
        "  l = [[float(word) for word in re.split(\"\\n|,| |\\t|\\(|\\)\", line) if isfloat(word)] for line in file if line.startswith(start)]\n",
        "  return torch.tensor(l)\n",
        "\n",
        "# general propose plot\n",
        "file_names = [\n",
        "  \"./epochs200_batch128_lr0.03_momentum0.9_multi-pos0.txt\",\n",
        "  \"./epochs200_batch128_lr0.03_momentum0.9_multi-pos1.txt\", \n",
        "]\n",
        "fig, axarr = plt.subplots(len(file_names), 2, figsize=(15, 10))\n",
        "names = [\"multi-pos0\", \"multi-pos1\"] # titles for each row of image, substitute of file name \n",
        "for i, file_name in enumerate(file_names):\n",
        "  losses = extract_float(file_name) # shape [iteration_number * print num per iteration, 8], only loss at index [5, 7] are useful for plot\n",
        "  train_index = {} # additional plot other than losses\n",
        "  val_index = {}\n",
        "  mean_loss_index = [i * 7 + 6 for i in range(losses.shape[0] // 7)]\n",
        "\n",
        "  for j, idx in enumerate(train_index):\n",
        "    axarr[i, j+1].plot(losses[:, idx])\n",
        "  \n",
        "  for j, idx in enumerate(val_index):\n",
        "    axarr[i, j+1].plot(losses[:, idx])\n",
        "    axarr[i, j+1].set_title(train_index[idx])\n",
        "\n",
        "  axarr[i, 0].plot(losses[:, 5], label=\"train loss\")\n",
        "  axarr[i, 0].plot(losses[:, 7], label=\"val loss\")\n",
        "  axarr[i, 0].set_title(names[i])\n",
        "  axarr[i, 0].legend(loc=\"upper right\")\n",
        "\n",
        "\n",
        "  axarr[i, -1].plot(losses[mean_loss_index, 5], label=\"train loss\")\n",
        "  axarr[i, -1].plot(losses[mean_loss_index, 7], label=\"val loss\")\n",
        "  axarr[i, -1].set_title(names[i] + \" mean cross entropy\")\n",
        "  axarr[i, -1].legend(loc=\"upper right\")\n"
      ]
    },
    {
      "cell_type": "code",
      "execution_count": 9,
      "metadata": {},
      "outputs": [],
      "source": [
        "model = torch.load(\"epochs200_batch128_lr0.03_momentum0.9_multi-pos0.pickle\", map_location=torch.device('cpu') )"
      ]
    },
    {
      "cell_type": "code",
      "execution_count": 10,
      "metadata": {},
      "outputs": [
        {
          "data": {
            "text/plain": [
              "(tensor([[14.2852, -0.9498, -0.8311,  ..., -0.8301, -1.5310,  0.5883],\n",
              "         [14.2851,  0.9505,  0.1753,  ...,  0.4141,  0.6426, -0.0188],\n",
              "         [14.2850,  0.4866, -1.5326,  ...,  0.9257,  1.8855,  0.2001],\n",
              "         ...,\n",
              "         [14.2848,  2.1074, -0.3470,  ..., -1.5052,  0.2656, -0.2460],\n",
              "         [14.2852, -2.1380,  2.0101,  ..., -0.8440, -0.8014, -1.2877],\n",
              "         [14.2852, -0.5348, -1.8493,  ...,  0.5097, -0.2025, -0.8110]],\n",
              "        grad_fn=<DivBackward0>),\n",
              " tensor([0, 0, 0, 0, 0, 0, 0, 0, 0, 0, 0, 0, 0, 0, 0, 0, 0, 0, 0, 0, 0, 0, 0, 0,\n",
              "         0, 0, 0, 0, 0, 0, 0, 0, 0, 0, 0, 0, 0, 0, 0, 0, 0, 0, 0, 0, 0, 0, 0, 0,\n",
              "         0, 0, 0, 0, 0, 0, 0, 0, 0, 0, 0, 0, 0, 0, 0, 0, 0, 0, 0, 0, 0, 0, 0, 0,\n",
              "         0, 0, 0, 0, 0, 0, 0, 0, 0, 0, 0, 0, 0, 0, 0, 0, 0, 0, 0, 0, 0, 0, 0, 0,\n",
              "         0, 0, 0, 0, 0, 0, 0, 0, 0, 0, 0, 0, 0, 0, 0, 0, 0, 0, 0, 0, 0, 0, 0, 0,\n",
              "         0, 0, 0, 0, 0, 0, 0, 0]))"
            ]
          },
          "execution_count": 10,
          "metadata": {},
          "output_type": "execute_result"
        }
      ],
      "source": [
        "for i, (images, labels) in enumerate(train_loader):\n",
        "  break\n",
        "\n",
        "model(images, labels=None)"
      ]
    },
    {
      "cell_type": "code",
      "execution_count": 62,
      "metadata": {},
      "outputs": [
        {
          "data": {
            "text/plain": [
              "(tensor(-2.5201), tensor(2.5201))"
            ]
          },
          "execution_count": 62,
          "metadata": {},
          "output_type": "execute_result"
        }
      ],
      "source": [
        "x = torch.randn((2,3))\n",
        "y = torch.tensor([[1,0,1],[0, 1, 0]], dtype=torch.float32)\n",
        "\n",
        "((x.exp() / x.exp().sum(dim=-1, keepdim=True)).log() * y).sum(dim=-1).mean(), nn.CrossEntropyLoss(reduction=\"mean\")(x, y)"
      ]
    },
    {
      "cell_type": "code",
      "execution_count": 27,
      "metadata": {},
      "outputs": [
        {
          "data": {
            "text/plain": [
              "(tensor(0.9606), tensor(0.9606))"
            ]
          },
          "execution_count": 27,
          "metadata": {},
          "output_type": "execute_result"
        }
      ],
      "source": [
        "x = torch.randn((2,3))\n",
        "y = torch.tensor([[1,0,1],[0, 1, 0]], dtype=torch.float32)\n",
        "l = nn.BCEWithLogitsLoss()\n",
        "sig = (1 / (1 + (-x).exp()))\n",
        "\n",
        "(-(1 - y) * (1 - sig).log() - y * sig.log()).mean(), nn.functional.binary_cross_entropy_with_logits(x, y)"
      ]
    },
    {
      "cell_type": "code",
      "execution_count": null,
      "metadata": {},
      "outputs": [],
      "source": []
    }
  ],
  "metadata": {
    "accelerator": "GPU",
    "colab": {
      "provenance": []
    },
    "gpuClass": "standard",
    "kernelspec": {
      "display_name": "med-contrast-env",
      "language": "python",
      "name": "python3"
    },
    "language_info": {
      "codemirror_mode": {
        "name": "ipython",
        "version": 3
      },
      "file_extension": ".py",
      "mimetype": "text/x-python",
      "name": "python",
      "nbconvert_exporter": "python",
      "pygments_lexer": "ipython3",
      "version": "3.9.15"
    },
    "orig_nbformat": 4,
    "vscode": {
      "interpreter": {
        "hash": "89c22432502bdc03679fbb2d05029bfff3d90287672507a41449dbd4432b55dc"
      }
    }
  },
  "nbformat": 4,
  "nbformat_minor": 0
}
